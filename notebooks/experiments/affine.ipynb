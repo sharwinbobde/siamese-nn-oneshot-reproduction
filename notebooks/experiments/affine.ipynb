{
 "cells": [
  {
   "cell_type": "markdown",
   "metadata": {
    "collapsed": true,
    "pycharm": {
     "name": "#%% md\n"
    }
   },
   "source": [
    "# Affine transformations testing\n"
   ]
  },
  {
   "cell_type": "code",
   "execution_count": 1,
   "metadata": {},
   "outputs": [],
   "source": [
    "import torch\n",
    "from torchvision import transforms\n",
    "from torch.utils import data\n",
    "import numpy as np\n",
    "import matplotlib.pyplot as plt\n",
    "from PIL import Image"
   ]
  },
  {
   "cell_type": "code",
   "execution_count": 7,
   "metadata": {},
   "outputs": [],
   "source": [
    "## Create a custom dataset class to hold our weird data samples\n"
   ]
  },
  {
   "cell_type": "code",
   "execution_count": 3,
   "metadata": {},
   "outputs": [],
   "source": [
    "class SiameseDataset(data.Dataset):\n",
    "    \"\"\"Dataset that reads the data from an npy file and \n",
    "    returns a pair to the loader\"\"\"\n",
    "    def __init__(self, data_path=None, labels_path=None, \n",
    "                 transform=None, dataset: data.Dataset =None, \n",
    "                 data : np.ndarray = None, labels: np.ndarray = None,\n",
    "                 mean : float = None, std : float = None,\n",
    "                 transform_data=False):\n",
    "        self.transform_data = transform_data\n",
    "        # If we're given another dataset, just take that\n",
    "        if dataset is not None:\n",
    "            self.data = dataset.data\n",
    "            self.labels = dataset.labels\n",
    "            self.transforms = dataset.transforms\n",
    "        # We can also pass the data and labels as an array\n",
    "        elif data is not None:\n",
    "            self.data = data\n",
    "            self.labels = labels\n",
    "            self.transforms = transforms.Compose([\n",
    "                transforms.ToTensor(),\n",
    "            ])\n",
    "        # If not, that means that we load it from a file\n",
    "        else:\n",
    "            # Load the data and labels\n",
    "            self.data = np.load(data_path)\n",
    "            self.labels = np.load(labels_path)\n",
    "\n",
    "            # for training set, calculate mean and std\n",
    "            # to normalize\n",
    "            if mean == None and std == None:\n",
    "                # stats of the dataset\n",
    "                self.mean = np.mean(self.data[:,:,:])\n",
    "                self.std = np.std(self.data[:,:,:])\n",
    "            # for test set, use mean and std from\n",
    "            # the train set to normalize\n",
    "            else:\n",
    "                self.mean = mean\n",
    "                self.std = std\n",
    "            # Normalize by default!\n",
    "            self.normalize = transforms.Normalize(mean=(self.mean,),\n",
    "                                                std = (self.std,))\n",
    "            # We apply the transformations that are given, so we can \n",
    "            # join the datasets\n",
    "            self.transforms = transforms.Compose([\n",
    "                transform, \n",
    "                transforms.ToTensor(),\n",
    "            ])\n",
    "            \n",
    "    def __len__(self):\n",
    "        return len(self.data)\n",
    "    \n",
    "    def get_images(self, index):\n",
    "        _x1 = self.data[index,0,:,:]\n",
    "        _x2 = self.data[index,1,:,:]\n",
    "        label = self.labels[index]\n",
    "        return Image.fromarray(_x1), Image.fromarray(_x2), label\n",
    "        \n",
    "    \n",
    "    def __getitem__(self, index):\n",
    "        \"\"\" Gets the next pair from \n",
    "        the dataset and its corresponding label\n",
    "        (0 or 1 depending on if they're the same\n",
    "        or a different letter)\"\"\"\n",
    "        _x1 = self.data[index,0,:,:]\n",
    "        _x2 = self.data[index,1,:,:]\n",
    "        label = self.labels[index]\n",
    "        \n",
    "        # Convert to PIL Images so \n",
    "        # we can transform them with affine transforms\n",
    "        # Just needed to generate the dataset\n",
    "        if self.transform_data:\n",
    "            _x1 = Image.fromarray(_x1)\n",
    "            _x2 = Image.fromarray(_x2)\n",
    "            \n",
    "            # we need to convert the x's to images to apply the transforms\n",
    "            return self.transforms(_x1), self.transforms(_x2), label\n",
    "        else:\n",
    "            return _x1, _x2, label\n",
    "    \n",
    "    \n",
    "def show_pair(x1, x2, lab):\n",
    "    \"\"\"Function to show two images of the dataset side by side\"\"\"\n",
    "    # x1 = x1.numpy()\n",
    "    # x2 = x2.numpy()\n",
    "    f ,(ax1, ax2) = plt.subplots(1, 2, sharey= True)\n",
    "    ax1.imshow(x1.squeeze())\n",
    "    ax2.imshow(x2.squeeze())\n",
    "    plt.show()\n",
    "    print('same' if lab == 1 else 'different')\n",
    "    \n",
    "def show_image_pair(i1, i2, lab):\n",
    "    f ,(ax1, ax2) = plt.subplots(1, 2, sharey= True)\n",
    "    ax1.imshow(i1)\n",
    "    ax2.imshow(i2)\n",
    "    plt.show()\n",
    "    print('same' if lab == 1 else 'different')\n",
    "    \n",
    "    "
   ]
  },
  {
   "cell_type": "markdown",
   "metadata": {},
   "source": [
    "## Declare the transformations and load the data into the dataset\n",
    "\n",
    "**IMPORTANT** For the first run generating the data you want to set `transform_data` to \n",
    "True so that the affine transformations are randomly applied to generate the other datasets.\n",
    "But once those datasets are generated and saved, you want to set that to False so that the\n",
    "images that the dataset returns are deterministic\n",
    "    "
   ]
  },
  {
   "cell_type": "code",
   "execution_count": 8,
   "metadata": {},
   "outputs": [],
   "source": [
    "# Affine transformations to be done on the data\n",
    "affine = transforms.RandomAffine(degrees = (-10,10), \n",
    "                                 translate=(0.2,0.2),\n",
    "                                 scale = (0.8, 1.2),\n",
    "                                 shear = (-0.3, 0.3), \n",
    "                                 fillcolor=255)\n",
    "\n",
    "\n",
    "# define the paths of the data\n",
    "data_path = \"data/processed/trainX_30k.npy\"\n",
    "labels_path = \"data/processed/trainY_30k.npy\"\n",
    "\n",
    "# Try to represent the images\n",
    "\n",
    "d = SiameseDataset(data_path, labels_path, transform=affine, transform_data=True)\n"
   ]
  },
  {
   "cell_type": "markdown",
   "metadata": {
    "collapsed": false,
    "pycharm": {
     "is_executing": false,
     "name": "#%% md\n"
    }
   },
   "source": [
    "### You can run the code below as many times as you want to see examples of images\n",
    "The percentage of same/different pairs should be around 50%\n"
   ]
  },
  {
   "cell_type": "markdown",
   "metadata": {
    "collapsed": false,
    "pycharm": {
     "name": "#%% md\n"
    }
   },
   "source": [
    "## Apply transformations to the dataset\n",
    "\n",
    "Each image in the dataset should be transformed randomly with 4 different transformations, and do that 8 times.\n",
    "We do this by applying a random affine transformation \n",
    "\n",
    "- Degrees [-10, 10]\n",
    "- Translate [-2,2]\n",
    "- Scale [0.8,1.2]\n",
    "- Shear [-0.3, 0.3]\n",
    "\n",
    "First read all the data and iterate through it while saving it to another dataset"
   ]
  },
  {
   "cell_type": "code",
   "execution_count": 9,
   "metadata": {
    "collapsed": false,
    "pycharm": {
     "is_executing": false,
     "name": "#%%\n"
    }
   },
   "outputs": [
    {
     "name": "stdout",
     "output_type": "stream",
     "text": [
      "starting with round  0\n",
      "0\n",
      "1\n",
      "Saving dataset  0\n",
      "starting with round  1\n",
      "0\n",
      "1\n",
      "Saving dataset  1\n",
      "starting with round  2\n",
      "0\n",
      "1\n",
      "Saving dataset  2\n",
      "starting with round  3\n",
      "0\n",
      "1\n",
      "Saving dataset  3\n",
      "starting with round  4\n",
      "0\n",
      "1\n",
      "Saving dataset  4\n",
      "starting with round  5\n",
      "0\n",
      "1\n",
      "Saving dataset  5\n",
      "starting with round  6\n",
      "0\n",
      "1\n",
      "Saving dataset  6\n",
      "starting with round  7\n",
      "0\n",
      "1\n",
      "Saving dataset  7\n"
     ]
    }
   ],
   "source": [
    "import gc\n",
    "import pickle\n",
    "\n",
    "gc.collect()\n",
    "\n",
    "# Path to which we'll save the data augmented\n",
    "save_path = \"data/augmented/30k/\"\n",
    "\n",
    "# Create a data loader of the dataset\n",
    "loader = data.DataLoader(d, batch_size=15000)\n",
    "\n",
    "_altered = None\n",
    "# Check the size of the batches and so on\n",
    "# Read in batches of 512, and do it \n",
    "for j in range(8):\n",
    "    gc.collect()\n",
    "    _altered = None\n",
    "    print(\"starting with round \",j)\n",
    "    for i, (x1, x2, _) in enumerate(loader):\n",
    "        if i % 1 == 0:\n",
    "            print(i)\n",
    "        # concatenate the arrays by their second axis\n",
    "        _data = np.concatenate((x1.numpy().astype(np.uint8), x2.numpy().astype(np.uint8)), axis = 1)\n",
    "        # add them to the dataset\n",
    "        if _altered is None:\n",
    "            _altered = _data\n",
    "        else:\n",
    "            # Concatenate the existing data and the new batch\n",
    "            _altered = np.concatenate((_altered, _data), axis = 0)\n",
    "    \n",
    "    print(\"Saving dataset \",j)\n",
    "    with open(f'{save_path}{j}.npy', 'wb') as f:\n",
    "        np.save(f, _altered)\n",
    "    del _altered\n"
   ]
  },
  {
   "cell_type": "code",
   "execution_count": 20,
   "metadata": {
    "collapsed": false,
    "pycharm": {
     "is_executing": false,
     "name": "#%%\n"
    }
   },
   "outputs": [
    {
     "data": {
      "image/png": "[encoded data removed]",
      "text/plain": "<Figure size 432x288 with 2 Axes>"
     },
     "metadata": {
      "needs_background": "light"
     },
     "output_type": "display_data"
    },
    {
     "name": "stdout",
     "output_type": "stream",
     "text": [
      "different\n",
      "different\n"
     ]
    },
    {
     "data": {
      "image/png": "[encoded data removed]",
      "text/plain": "<Figure size 432x288 with 2 Axes>"
     },
     "metadata": {
      "needs_background": "light"
     },
     "output_type": "display_data"
    }
   ],
   "source": [
    "a, b, l2 = d.__getitem__(2)\n",
    "c, h, l = d.__getitem__(60002)\n",
    "\n",
    "show_pair(c, h, l)\n",
    "show_pair(a, b, l2)"
   ]
  },
  {
   "cell_type": "markdown",
   "metadata": {
    "collapsed": false,
    "pycharm": {
     "name": "#%% md\n"
    }
   },
   "source": [
    "## Now combine the datasets that are stored in the folder\n",
    "\n",
    "We then have a dataset of length 270.000 in case of the 30k train dataset.\n",
    "\n",
    "The labels are the same for all the datasets cause we did not shuffle, therefore we can reuse\n",
    "those of the original dataset.\n",
    "\n",
    "Once we want to train the network, we want to shuffle with the dataloader we wrap this ConcatDataset with"
   ]
  },
  {
   "cell_type": "code",
   "execution_count": 14,
   "metadata": {
    "collapsed": false,
    "pycharm": {
     "is_executing": false,
     "name": "#%%\n"
    }
   },
   "outputs": [
    {
     "name": "stdout",
     "output_type": "stream",
     "text": [
      "Opening dataset 0\n",
      "concated\n",
      "Opening dataset 1\n",
      "concated\n",
      "Opening dataset 2\n",
      "concated\n",
      "Opening dataset 3\n",
      "concated\n",
      "Opening dataset 4\n",
      "concated\n",
      "Opening dataset 5\n",
      "concated\n",
      "Opening dataset 6\n",
      "concated\n",
      "Opening dataset 7\n",
      "concated\n"
     ]
    }
   ],
   "source": [
    "save_path = \"data/augmented/30k/\"\n",
    "# Do for each of the files\n",
    "# We'll use the same labels cause the order is the same\n",
    "labels = d.labels\n",
    "for i in range(8):\n",
    "    print('Opening dataset', i)\n",
    "    _d = np.load(f'{save_path}{i}.npy')\n",
    "    _sd = SiameseDataset(data = _d, labels = labels)\n",
    "    d = data.ConcatDataset((d, _sd))\n",
    "    print('concated')\n",
    "\n",
    "\n",
    "\n"
   ]
  }
 ],
 "metadata": {
  "kernelspec": {
   "display_name": "Python 3",
   "language": "python",
   "name": "python3"
  },
  "language_info": {
   "codemirror_mode": {
    "name": "ipython",
    "version": 2
   },
   "file_extension": ".py",
   "mimetype": "text/x-python",
   "name": "python",
   "nbconvert_exporter": "python",
   "pygments_lexer": "ipython2",
   "version": "3.7.0-final"
  },
  "pycharm": {
   "stem_cell": {
    "cell_type": "raw",
    "source": [],
    "metadata": {
     "collapsed": false
    }
   }
  }
 },
 "nbformat": 4,
 "nbformat_minor": 0
}